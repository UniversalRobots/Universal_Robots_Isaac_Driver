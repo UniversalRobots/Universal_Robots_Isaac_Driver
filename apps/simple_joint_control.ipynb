{
 "cells": [
  {
   "cell_type": "code",
   "execution_count": 1,
   "metadata": {},
   "outputs": [
    {
     "data": {
      "text/plain": [
       "'/root/.cache/bazel/_bazel_root/4ba0b84eadbbe44ac95feee54d73b56c/execroot/com_nvidia_isaac_sdk/bazel-out/k8-opt/bin/packages/universal_robots/apps/simple_joint_control.runfiles/com_nvidia_isaac_sdk'"
      ]
     },
     "execution_count": 1,
     "metadata": {},
     "output_type": "execute_result"
    }
   ],
   "source": [
    "import os\n",
    "# set the current working directory to the deployed package folder. This is required by isaac.\n",
    "# This cell should only run once.\n",
    "os.chdir(\"../../../\")\n",
    "os.getcwd()"
   ]
  },
  {
   "cell_type": "code",
   "execution_count": 2,
   "metadata": {},
   "outputs": [],
   "source": [
    "from IPython.display import display\n",
    "import json\n",
    "import numpy as np\n",
    "import time\n",
    "\n",
    "from packages.pyalice import Application, Codelet, Message\n",
    "from packages.pyalice.gui.composite_widget import CompositeWidget\n",
    "\n",
    "np.set_printoptions(precision=3)"
   ]
  },
  {
   "cell_type": "code",
   "execution_count": 4,
   "metadata": {},
   "outputs": [
    {
     "name": "stdout",
     "output_type": "stream",
     "text": [
      "['shoulder_pan_joint', 'shoulder_lift_joint', 'elbow_joint', 'wrist_1_joint', 'wrist_2_joint', 'wrist_3_joint']\n"
     ]
    }
   ],
   "source": [
    "# A Python codelet for joint control through widget\n",
    "class JointPositionControl(Codelet):\n",
    "    def start(self):\n",
    "        self.rx = self.isaac_proto_rx(\"CompositeProto\", \"state\")\n",
    "        self.tx = self.isaac_proto_tx(\"CompositeProto\", \"command\")\n",
    "        \n",
    "        joints = self.config.joints\n",
    "        limits = self.config.limits\n",
    "        measure = self.config.measure\n",
    "        self.stop_control = 3\n",
    "        self._widget = CompositeWidget(joints, measure, limits)\n",
    "        if self._widget is None:\n",
    "            report_failure(\"Cannot create valid widget\")\n",
    "            return\n",
    "        display(self._widget.panel)\n",
    "\n",
    "        self.tick_periodically(0.1)\n",
    "\n",
    "    def tick(self):\n",
    "        state_msg = self.rx.message\n",
    "        if state_msg is None:\n",
    "            return\n",
    "        self._widget.composite = state_msg\n",
    "\n",
    "        self.tx._msg = self._widget.composite\n",
    "        if self.tx._msg is not None:\n",
    "            self.tx.publish()\n",
    "            \n",
    "# set kinematic file and get list of joints\n",
    "kinematic_file = \"apps/assets/kinematic_trees/ur10.kinematic.json\"\n",
    "joints = []\n",
    "with open(kinematic_file,'r') as fd:\n",
    "    kt = json.load(fd)\n",
    "    for link in kt['links']:\n",
    "        if 'motor' in link and link['motor']['type'] != 'constant':\n",
    "            joints.append(link['name'])\n",
    "print(joints)\n",
    "\n",
    "# Obtain the IP from UR Console and update this\n",
    "IP = \"192.168.56.1\"\n",
    "# Robot generation that you are going to control \"e-series\" or \"cb3\"\n",
    "GENERATION = \"e-series\""
   ]
  },
  {
   "cell_type": "markdown",
   "metadata": {},
   "source": [
    "UR10 Hardware Joint Control\n",
    "======"
   ]
  },
  {
   "cell_type": "code",
   "execution_count": 5,
   "metadata": {
    "scrolled": true
   },
   "outputs": [
    {
     "name": "stderr",
     "output_type": "stream",
     "text": [
      "2021-05-04 12:31:28,784 DEBUG Binding PyCodelet command_generator/PyCodelet\n",
      "2021-05-04 12:31:28,787 DEBUG Launching isaac core\n",
      "2021-05-04 12:31:28,789 DEBUG Launching pycodelet threads\n",
      "2021-05-04 12:31:28,795 DEBUG Launching command_generator/PyCodelet\n"
     ]
    },
    {
     "data": {
      "application/vnd.jupyter.widget-view+json": {
       "model_id": "db38dbc6409243748d4c1067061abc55",
       "version_major": 2,
       "version_minor": 0
      },
      "text/plain": [
       "VBox(children=(HBox(children=(Label(value='shoulder_pan_joint', layout=Layout(width='150px')), FloatSlider(val…"
      ]
     },
     "metadata": {},
     "output_type": "display_data"
    }
   ],
   "source": [
    "app = Application(name=\"simple_joint_control_ur_hardware\", modules=[\"sight\"])\n",
    "\n",
    "if GENERATION == \"e-series\":    \n",
    "    app.load(filename=\"packages/universal_robots/ur_robot_driver/apps/ur_eseries_robot.subgraph.json\", prefix=\"ur\")\n",
    "elif GENERATION == \"cb3\":\n",
    "    app.load(filename=\"packages/universal_robots/ur_robot_driver/apps/ur_cb3_robot.subgraph.json\", prefix=\"ur\")\n",
    "else:\n",
    "    Exception(\"Unknown robot generation\")\n",
    "\n",
    "# Load components for configuration\n",
    "ur_interface = app.nodes[\"ur.subgraph\"][\"interface\"]\n",
    "ur_controller = app.nodes[\"ur.controller\"][\"ScaledMultiJointController\"]\n",
    "ur_driver = app.nodes[\"ur.universal_robots\"][\"UniversalRobots\"]\n",
    "\n",
    "# configs\n",
    "ur_controller.config.control_mode = \"joint speed\"\n",
    "ur_driver.config.control_mode = \"joint speed\"\n",
    "ur_driver.config.robot_ip = IP\n",
    "ur_driver.config.headless_mode = False\n",
    "\n",
    "# add pycodelet for joint position control\n",
    "widget_node = app.add(\"command_generator\")\n",
    "joint_commander = widget_node.add(JointPositionControl)\n",
    "joint_commander.config.joints = joints\n",
    "joint_commander.config.limits = [[-2*np.pi, 2*np.pi]] * len(joints)\n",
    "joint_commander.config.measure = 'position'\n",
    "\n",
    "# edges\n",
    "app.connect(joint_commander, \"command\", ur_interface, \"joint_target\")\n",
    "app.connect(ur_interface, \"arm_state\", joint_commander, \"state\")\n",
    "\n",
    "# Enable sight\n",
    "widget = app.add(\"sight\").add(app.registry.isaac.sight.SightWidget, \"simple_joint_control\")\n",
    "widget.config.type = \"plot\"\n",
    "widget.config.channels = [\n",
    "  {\n",
    "    \"name\": \"ur.universal_robots/UniversalRobots/shoulder_pan_joint\"\n",
    "  },\n",
    "  {\n",
    "    \"name\": \"ur.universal_robots/UniversalRobots/shoulder_lift_joint\"\n",
    "  },\n",
    "  {\n",
    "    \"name\": \"ur.universal_robots/UniversalRobots/elbow_joint\"\n",
    "  },\n",
    "  {\n",
    "    \"name\": \"ur.universal_robots/UniversalRobots/wrist_1_joint\"\n",
    "  },\n",
    "  {\n",
    "    \"name\": \"ur.universal_robots/UniversalRobots/wrist_2_joint\"\n",
    "  },\n",
    "  {\n",
    "    \"name\": \"ur.universal_robots/UniversalRobots/wrist_3_joint\"\n",
    "  }\n",
    "\n",
    "]\n",
    "\n",
    "# start application\n",
    "app.start()\n"
   ]
  },
  {
   "cell_type": "code",
   "execution_count": 7,
   "metadata": {},
   "outputs": [
    {
     "name": "stderr",
     "output_type": "stream",
     "text": [
      "2021-04-29 12:23:34,917 DEBUG Stopped command_generator/PyCodelet\n",
      "2021-04-29 12:23:34,918 DEBUG Python Codelets All stopped...\n"
     ]
    }
   ],
   "source": [
    "app.stop()"
   ]
  },
  {
   "cell_type": "markdown",
   "metadata": {},
   "source": [
    "UR10 Digital IO Control\n",
    "====="
   ]
  },
  {
   "cell_type": "code",
   "execution_count": 6,
   "metadata": {},
   "outputs": [
    {
     "name": "stderr",
     "output_type": "stream",
     "text": [
      "2021-05-04 12:53:50,384 DEBUG Binding PyCodelet command_generator/PyCodelet\n",
      "2021-05-04 12:53:50,387 DEBUG Launching isaac core\n",
      "2021-05-04 12:53:50,388 DEBUG Launching pycodelet threads\n",
      "2021-05-04 12:53:50,389 DEBUG Launching command_generator/PyCodelet\n"
     ]
    },
    {
     "data": {
      "application/vnd.jupyter.widget-view+json": {
       "model_id": "476f9c1bcc2043f6ad42e176546771c8",
       "version_major": 2,
       "version_minor": 0
      },
      "text/plain": [
       "VBox(children=(HBox(children=(Label(value='tool_digital_out_0', layout=Layout(width='150px')), FloatSlider(val…"
      ]
     },
     "metadata": {},
     "output_type": "display_data"
    }
   ],
   "source": [
    "app = Application(name=\"io_control_ur_hardware\", modules=[\"sight\"])\n",
    "\n",
    "if GENERATION == \"e-series\":    \n",
    "    app.load(filename=\"packages/universal_robots/ur_robot_driver/apps/ur_eseries_robot.subgraph.json\", prefix=\"ur\")\n",
    "elif GENERATION == \"cb3\":\n",
    "    app.load(filename=\"packages/universal_robots/ur_robot_driver/apps/ur_cb3_robot.subgraph.json\", prefix=\"ur\")\n",
    "else:\n",
    "    Exception(\"Unknown robot generation\")\n",
    "\n",
    "# Load components for configuration\n",
    "ur_interface = app.nodes[\"ur.subgraph\"][\"interface\"]\n",
    "ur_driver = app.nodes[\"ur.universal_robots\"][\"UniversalRobots\"]\n",
    "\n",
    "io_names = ur_driver.config.tool_digital_out_names\n",
    "ur_driver.config.robot_ip = IP\n",
    "\n",
    "# add pycodelet for digitalIO control\n",
    "widget_node = app.add(\"command_generator\")\n",
    "io_commander = widget_node.add(JointPositionControl)\n",
    "io_commander.config.joints = io_names\n",
    "io_commander.config.limits = [[0, 1]] * len(io_names)\n",
    "io_commander.config.measure = 'none'\n",
    "\n",
    "# Edges\n",
    "app.connect(io_commander, \"command\", ur_interface, \"io_command\")\n",
    "app.connect(ur_interface, \"io_state\", io_commander, \"state\")\n",
    "\n",
    "# Enable sight\n",
    "widget = app.add(\"sight\").add(app.registry.isaac.sight.SightWidget, \"shuffle_box_hardware\")\n",
    "widget.config.type = \"plot\"\n",
    "widget.config.channels = [\n",
    "  {\n",
    "    \"name\": \"ur.universal_robots/UniversalRobots/tool_digital_out_0\"\n",
    "  },\n",
    "  {\n",
    "    \"name\": \"ur.universal_robots/UniversalRobots/tool_digital_out_1\"\n",
    "  },\n",
    "  {\n",
    "    \"name\": \"ur.universal_robots/UniversalRobots/tool_digital_in_0\"\n",
    "  },\n",
    "  {\n",
    "    \"name\": \"ur.universal_robots/UniversalRobots/tool_digital_in_1\"\n",
    "  }\n",
    "]\n",
    "\n",
    "app.start()"
   ]
  },
  {
   "cell_type": "code",
   "execution_count": 7,
   "metadata": {},
   "outputs": [
    {
     "name": "stderr",
     "output_type": "stream",
     "text": [
      "2021-05-04 12:55:22,145 DEBUG Stopped command_generator/PyCodelet\n",
      "2021-05-04 12:55:22,146 DEBUG Python Codelets All stopped...\n"
     ]
    }
   ],
   "source": [
    "app.stop()"
   ]
  }
 ],
 "metadata": {
  "kernelspec": {
   "display_name": "Python 3",
   "language": "python",
   "name": "python3"
  },
  "language_info": {
   "codemirror_mode": {
    "name": "ipython",
    "version": 3
   },
   "file_extension": ".py",
   "mimetype": "text/x-python",
   "name": "python",
   "nbconvert_exporter": "python",
   "pygments_lexer": "ipython3",
   "version": "3.6.9"
  }
 },
 "nbformat": 4,
 "nbformat_minor": 2
}
