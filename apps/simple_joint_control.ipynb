{
 "cells": [
  {
   "cell_type": "code",
   "execution_count": null,
   "metadata": {},
   "outputs": [],
   "source": [
    "import os\n",
    "# set the current working directory to the deployed package folder. This is required by isaac.\n",
    "# This cell should only run once.\n",
    "os.chdir(\"../../../\")\n",
    "os.getcwd()"
   ]
  },
  {
   "cell_type": "code",
   "execution_count": null,
   "metadata": {},
   "outputs": [],
   "source": [
    "from IPython.display import display\n",
    "import json\n",
    "import numpy as np\n",
    "\n",
    "from engine.pyalice import Application, Codelet\n",
    "from engine.pyalice.gui.composite_widget import CompositeWidget\n",
    "\n",
    "np.set_printoptions(precision=3)"
   ]
  },
  {
   "cell_type": "code",
   "execution_count": null,
   "metadata": {},
   "outputs": [],
   "source": [
    "# A Python codelet for joint control through widget\n",
    "class JointPositionControl(Codelet):\n",
    "    def start(self):\n",
    "        self.rx = self.isaac_proto_rx(\"CompositeProto\", \"state\")\n",
    "        self.tx = self.isaac_proto_tx(\"CompositeProto\", \"command\")\n",
    "\n",
    "        joints = self.config.joints\n",
    "        limits = self.config.limits\n",
    "        measure = self.config.measure\n",
    "        self._widget = CompositeWidget(joints, measure, limits)\n",
    "        if self._widget is None:\n",
    "            report_failure(\"Cannot create valid widget\")\n",
    "            return\n",
    "        display(self._widget.panel)\n",
    "\n",
    "        self.tick_periodically(0.1)\n",
    "\n",
    "    def tick(self):\n",
    "        state_msg = self.rx.message\n",
    "        if state_msg is None:\n",
    "            return\n",
    "        self._widget.composite = state_msg\n",
    "\n",
    "        self.tx._msg = self._widget.composite\n",
    "        if self.tx._msg is not None:\n",
    "            self.tx.publish()\n",
    "            \n",
    "# set kinematic file and get list of joints\n",
    "kinematic_file = \"apps/assets/kinematic_trees/ur10.kinematic.json\"\n",
    "joints = []\n",
    "with open(kinematic_file,'r') as fd:\n",
    "    kt = json.load(fd)\n",
    "    for link in kt['links']:\n",
    "        if 'motor' in link and link['motor']['type'] != 'constant':\n",
    "            joints.append(link['name'])\n",
    "print(joints)\n",
    "\n",
    "# Obtain the UR10 IP from UR Console and update this\n",
    "UR10_IP = \"10.32.221.190\""
   ]
  },
  {
   "cell_type": "markdown",
   "metadata": {},
   "source": [
    "UR10 Hardware Joint Control\n",
    "======"
   ]
  },
  {
   "cell_type": "code",
   "execution_count": null,
   "metadata": {},
   "outputs": [],
   "source": [
    "app = Application(name=\"simple_joint_control_ur10_hardware\")\n",
    "\n",
    "# load lqr subgraphcs\n",
    "app.load(filename=\"packages/planner/apps/multi_joint_lqr_control.subgraph.json\", prefix=\"lqr\")\n",
    "lqr_interface = app.nodes[\"lqr.subgraph\"][\"interface\"]\n",
    "\n",
    "# configs\n",
    "app.nodes[\"lqr.kinematic_tree\"][\"KinematicTree\"].config.kinematic_file = kinematic_file\n",
    "lqr_planner = app.nodes[\"lqr.local_plan\"][\"MultiJointLqrPlanner\"]\n",
    "lqr_planner.config.speed_min = [-0.5] * len(joints)\n",
    "lqr_planner.config.speed_max = [0.5] * len(joints)\n",
    "lqr_planner.config.acceleration_min = [-0.5] * len(joints)\n",
    "lqr_planner.config.acceleration_max = [0.5] * len(joints)\n",
    "\n",
    "# add pycodelet for joint position control\n",
    "widget_node = app.add(\"command_generator\")\n",
    "joint_commander = widget_node.add(JointPositionControl)\n",
    "joint_commander.config.joints = joints\n",
    "joint_commander.config.limits = [[-2*np.pi, 2*np.pi]] * len(joints)\n",
    "joint_commander.config.measure = 'position'\n",
    "app.connect(joint_commander, \"command\", lqr_interface, \"joint_target\")\n",
    "\n",
    "# add ur10 driver codelet\n",
    "app.load_module(\"universal_robots\")\n",
    "driver = app.add(\"ur\").add(app.registry.isaac.universal_robots.UniversalRobots)\n",
    "# configs\n",
    "driver.config.kinematic_tree = \"lqr.kinematic_tree\"\n",
    "driver.config.control_mode = \"joint position\"\n",
    "driver.config.robot_ip = UR10_IP\n",
    "driver.config.tick_period = \"125Hz\"\n",
    "# edges\n",
    "app.connect(driver, \"arm_state\", lqr_interface, \"joint_state\")\n",
    "app.connect(driver, \"arm_state\", joint_commander, \"state\")\n",
    "app.connect(lqr_interface, \"joint_command\", driver, \"arm_command\")\n",
    "\n",
    "app.start()"
   ]
  },
  {
   "cell_type": "code",
   "execution_count": null,
   "metadata": {},
   "outputs": [],
   "source": [
    "app.stop()"
   ]
  },
  {
   "cell_type": "markdown",
   "metadata": {},
   "source": [
    "UR10 Digital IO Control\n",
    "======="
   ]
  },
  {
   "cell_type": "code",
   "execution_count": null,
   "metadata": {},
   "outputs": [],
   "source": [
    "app = Application(name=\"io_control_ur10_hardware\")\n",
    "\n",
    "# load lqr subgraphcs\n",
    "app.load(filename=\"packages/planner/apps/multi_joint_lqr_control.subgraph.json\", prefix=\"lqr\")\n",
    "lqr_interface = app.nodes[\"lqr.subgraph\"][\"interface\"]\n",
    "\n",
    "# configs\n",
    "app.nodes[\"lqr.kinematic_tree\"][\"KinematicTree\"].config.kinematic_file = kinematic_file\n",
    "lqr_planner = app.nodes[\"lqr.local_plan\"][\"MultiJointLqrPlanner\"]\n",
    "lqr_planner.config.speed_min = [-0.5] * len(joints)\n",
    "lqr_planner.config.speed_max = [0.5] * len(joints)\n",
    "lqr_planner.config.acceleration_min = [-0.5] * len(joints)\n",
    "lqr_planner.config.acceleration_max = [0.5] * len(joints)\n",
    "\n",
    "# add ur10 driver codelet\n",
    "app.load_module(\"universal_robots\")\n",
    "driver = app.add(\"ur\").add(app.registry.isaac.universal_robots.UniversalRobots)\n",
    "# configs\n",
    "driver.config.kinematic_tree = \"lqr.kinematic_tree\"\n",
    "driver.config.robot_ip = UR10_IP\n",
    "driver.config.tick_period = \"100Hz\"\n",
    "\n",
    "# add pycodelet for digitalIO control\n",
    "io_names = driver.config.tool_digital_out_names\n",
    "\n",
    "widget_node = app.add(\"command_generator\")\n",
    "io_commander = widget_node.add(JointPositionControl)\n",
    "io_commander.config.joints = io_names\n",
    "io_commander.config.limits = [[0, 1]] * len(io_names)\n",
    "io_commander.config.measure = 'none'\n",
    "app.connect(io_commander, \"command\", driver, \"io_command\")\n",
    "app.connect(driver, \"io_state\", io_commander, \"state\")\n",
    "\n",
    "app.start()"
   ]
  },
  {
   "cell_type": "code",
   "execution_count": null,
   "metadata": {},
   "outputs": [],
   "source": [
    "app.stop()"
   ]
  },
  {
   "cell_type": "code",
   "execution_count": null,
   "metadata": {},
   "outputs": [],
   "source": []
  }
 ],
 "metadata": {
  "kernelspec": {
   "display_name": "Python 3",
   "language": "python",
   "name": "python3"
  },
  "language_info": {
   "codemirror_mode": {
    "name": "ipython",
    "version": 2
   },
   "file_extension": ".py",
   "mimetype": "text/x-python",
   "name": "python",
   "nbconvert_exporter": "python",
   "pygments_lexer": "ipython2",
   "version": "2.7.17"
  }
 },
 "nbformat": 4,
 "nbformat_minor": 2
}
